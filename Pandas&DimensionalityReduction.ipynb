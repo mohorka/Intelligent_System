{
  "nbformat": 4,
  "nbformat_minor": 5,
  "metadata": {
    "kernelspec": {
      "display_name": "Python 3 (ipykernel)",
      "language": "python",
      "name": "python3"
    },
    "language_info": {
      "codemirror_mode": {
        "name": "ipython",
        "version": 3
      },
      "file_extension": ".py",
      "mimetype": "text/x-python",
      "name": "python",
      "nbconvert_exporter": "python",
      "pygments_lexer": "ipython3",
      "version": "3.8.11"
    },
    "colab": {
      "name": "Pandas&DimensionalityReduction.ipynb",
      "provenance": [],
      "collapsed_sections": [],
      "include_colab_link": true
    }
  },
  "cells": [
    {
      "cell_type": "markdown",
      "metadata": {
        "id": "view-in-github",
        "colab_type": "text"
      },
      "source": [
        "<a href=\"https://colab.research.google.com/github/mohorka/Intelligent_System/blob/main/Pandas%26DimensionalityReduction.ipynb\" target=\"_parent\"><img src=\"https://colab.research.google.com/assets/colab-badge.svg\" alt=\"Open In Colab\"/></a>"
      ]
    },
    {
      "cell_type": "code",
      "metadata": {
        "id": "9cc259d8"
      },
      "source": [
        "import pandas as pd\n",
        "import matplotlib.pyplot as plt\n",
        "import numpy as np\n",
        "from collections import Counter"
      ],
      "id": "9cc259d8",
      "execution_count": null,
      "outputs": []
    },
    {
      "cell_type": "markdown",
      "metadata": {
        "id": "984f836d"
      },
      "source": [
        "#### Загрузить данные в pandas по url=https://raw.githubusercontent.com/justmarkham/DAT8/master/data/chipotle.tsv"
      ],
      "id": "984f836d"
    },
    {
      "cell_type": "markdown",
      "metadata": {
        "id": "f99a23c5"
      },
      "source": [
        ""
      ],
      "id": "f99a23c5"
    },
    {
      "cell_type": "markdown",
      "metadata": {
        "id": "1a64282e"
      },
      "source": [
        "#### ~~1. Вывести: кол-во наблюдений в датасете~~\n",
        "#### ~~2. Вывести названия столбцов~~\n",
        "#### 3. Определить самую частую позицию (item) в заказе\n",
        "#### 4. Построить гистрограмму частоты заказов по позициям (item )\n",
        "#### ~~5. Измените тип переменной item_price c с помощью лямбды функции~~\n",
        "#### 6. Построить гистограмму кол-во денег заработанных по каждой позиции (item)\n",
        "#### ~~7. Средняя сумма заказа? (минимум 2 способа)~~\n",
        "#### ~~8. Выведите среднее, минимальное и максимальное, медианное значения позиций в заказе~~\n",
        "#### ~~9. Определить статистику заказов стейков, а также статистику заказов прожарки.~~\n",
        "#### ~~10. Добавить новый столбец цен на каждую позицию в заказе в рублях.~~\n",
        "#### 11. Сгруппировать заказы по входящим позициям в него. Отдельно сгруппировать по стейкам во всех видах прожарках.\n",
        "#### ~~12. Определить цену по каждой позиции в отдельности.~~\n"
      ],
      "id": "1a64282e"
    },
    {
      "cell_type": "code",
      "metadata": {
        "id": "7NPXMwEYxVHh"
      },
      "source": [
        "import warnings\n",
        "warnings.filterwarnings('ignore')"
      ],
      "id": "7NPXMwEYxVHh",
      "execution_count": null,
      "outputs": []
    },
    {
      "cell_type": "markdown",
      "metadata": {
        "id": "RDKqTgeU3lir"
      },
      "source": [
        "Сначала нужно поменять цены, потом уже убрать добавки из названия\n"
      ],
      "id": "RDKqTgeU3lir"
    },
    {
      "cell_type": "code",
      "metadata": {
        "id": "965cfec3"
      },
      "source": [
        "data = pd.read_csv('https://raw.githubusercontent.com/justmarkham/DAT8/master/data/chipotle.tsv', sep='\\t' )"
      ],
      "id": "965cfec3",
      "execution_count": null,
      "outputs": []
    },
    {
      "cell_type": "code",
      "metadata": {
        "id": "UVbMpsWZxOKS"
      },
      "source": [
        "#change data type of item_price\n",
        "data['item_price'] = data.apply(lambda x: float(x['item_price'].replace('$', '')),axis=1)"
      ],
      "id": "UVbMpsWZxOKS",
      "execution_count": null,
      "outputs": []
    },
    {
      "cell_type": "code",
      "metadata": {
        "id": "Z2fl_Iu6xXfy"
      },
      "source": [
        "data.head()"
      ],
      "id": "Z2fl_Iu6xXfy",
      "execution_count": null,
      "outputs": []
    },
    {
      "cell_type": "code",
      "metadata": {
        "colab": {
          "base_uri": "https://localhost:8080/"
        },
        "id": "CTCeUS5lyPzA",
        "outputId": "e184066b-f7f7-4da6-9c5d-e57dba0676fc"
      },
      "source": [
        "data.shape"
      ],
      "id": "CTCeUS5lyPzA",
      "execution_count": null,
      "outputs": [
        {
          "output_type": "execute_result",
          "data": {
            "text/plain": [
              "(4621, 5)"
            ]
          },
          "metadata": {},
          "execution_count": 35
        }
      ]
    },
    {
      "cell_type": "code",
      "metadata": {
        "colab": {
          "base_uri": "https://localhost:8080/"
        },
        "id": "VFZpxO9-Ekdo",
        "outputId": "3e0865ed-e150-4345-e91f-df5b9d449f45"
      },
      "source": [
        "#names of columns\n",
        "data.columns"
      ],
      "id": "VFZpxO9-Ekdo",
      "execution_count": null,
      "outputs": [
        {
          "output_type": "execute_result",
          "data": {
            "text/plain": [
              "Index(['order_id', 'quantity', 'item_name', 'choice_description',\n",
              "       'item_price'],\n",
              "      dtype='object')"
            ]
          },
          "metadata": {},
          "execution_count": 42
        }
      ]
    },
    {
      "cell_type": "code",
      "metadata": {
        "id": "X825tk1TVIOP"
      },
      "source": [
        "#fix of data\n",
        "#data.loc[data['item_price'] == 1.99] = data.loc[data['item_price'] == 1.99].replace({1.99:2.15},inplace=True)\n",
        "data.drop(index = 4509, inplace = True)"
      ],
      "id": "X825tk1TVIOP",
      "execution_count": null,
      "outputs": []
    },
    {
      "cell_type": "code",
      "metadata": {
        "colab": {
          "base_uri": "https://localhost:8080/",
          "height": 231
        },
        "id": "oUdGIoEOoDXH",
        "outputId": "53df4546-e887-4d2e-fc98-cd3838e32e19"
      },
      "source": [
        "#get adds\n",
        "adds = []\n",
        "for index, row in data.iterrows():\n",
        "  if ' and ' in row['item_name'].lower():\n",
        "    items = row['item_name'].split(' and ')\n",
        "    copy = row\n",
        "    #print(copy['item_name'])\n",
        "    #print(row['item_name'])\n",
        "    row['item_name']=row['item_name'].replace(row['item_name'],items[0])\n",
        "    #print(row['item_name'])\n",
        "    copy['item_name'] = items[-1]\n",
        "    copy['item_price'] = 0.0\n",
        "    adds.append(copy)\n",
        "\n",
        "data.head()"
      ],
      "id": "oUdGIoEOoDXH",
      "execution_count": null,
      "outputs": [
        {
          "output_type": "error",
          "ename": "AttributeError",
          "evalue": "ignored",
          "traceback": [
            "\u001b[0;31m---------------------------------------------------------------------------\u001b[0m",
            "\u001b[0;31mAttributeError\u001b[0m                            Traceback (most recent call last)",
            "\u001b[0;32m<ipython-input-16-8b2ad3cbabb5>\u001b[0m in \u001b[0;36m<module>\u001b[0;34m()\u001b[0m\n\u001b[1;32m      2\u001b[0m \u001b[0madds\u001b[0m \u001b[0;34m=\u001b[0m \u001b[0;34m[\u001b[0m\u001b[0;34m]\u001b[0m\u001b[0;34m\u001b[0m\u001b[0;34m\u001b[0m\u001b[0m\n\u001b[1;32m      3\u001b[0m \u001b[0;32mfor\u001b[0m \u001b[0mindex\u001b[0m\u001b[0;34m,\u001b[0m \u001b[0mrow\u001b[0m \u001b[0;32min\u001b[0m \u001b[0mdata\u001b[0m\u001b[0;34m.\u001b[0m\u001b[0miterrows\u001b[0m\u001b[0;34m(\u001b[0m\u001b[0;34m)\u001b[0m\u001b[0;34m:\u001b[0m\u001b[0;34m\u001b[0m\u001b[0;34m\u001b[0m\u001b[0m\n\u001b[0;32m----> 4\u001b[0;31m   \u001b[0;32mif\u001b[0m \u001b[0;34m' and '\u001b[0m \u001b[0;32min\u001b[0m \u001b[0mrow\u001b[0m\u001b[0;34m[\u001b[0m\u001b[0;34m'item_name'\u001b[0m\u001b[0;34m]\u001b[0m\u001b[0;34m.\u001b[0m\u001b[0mlower\u001b[0m\u001b[0;34m(\u001b[0m\u001b[0;34m)\u001b[0m\u001b[0;34m:\u001b[0m\u001b[0;34m\u001b[0m\u001b[0;34m\u001b[0m\u001b[0m\n\u001b[0m\u001b[1;32m      5\u001b[0m     \u001b[0mitems\u001b[0m \u001b[0;34m=\u001b[0m \u001b[0mrow\u001b[0m\u001b[0;34m[\u001b[0m\u001b[0;34m'item_name'\u001b[0m\u001b[0;34m]\u001b[0m\u001b[0;34m.\u001b[0m\u001b[0msplit\u001b[0m\u001b[0;34m(\u001b[0m\u001b[0;34m' and '\u001b[0m\u001b[0;34m)\u001b[0m\u001b[0;34m\u001b[0m\u001b[0;34m\u001b[0m\u001b[0m\n\u001b[1;32m      6\u001b[0m     \u001b[0mcopy\u001b[0m \u001b[0;34m=\u001b[0m \u001b[0mrow\u001b[0m\u001b[0;34m\u001b[0m\u001b[0;34m\u001b[0m\u001b[0m\n",
            "\u001b[0;31mAttributeError\u001b[0m: 'NoneType' object has no attribute 'lower'"
          ]
        }
      ]
    },
    {
      "cell_type": "code",
      "metadata": {
        "colab": {
          "base_uri": "https://localhost:8080/",
          "height": 419
        },
        "id": "yJP946yH1WDz",
        "outputId": "ab3c0ca8-d190-4306-fc40-f1bf8e5c8346"
      },
      "source": [
        "separ_data = pd.DataFrame(adds,columns=data.columns)\n",
        "separ_data['order_id'] = data.apply(lambda x: int(x['order_id']),axis=1)\n",
        "separ_data['quantity'] = data.apply(lambda x: int(x['quantity']),axis=1)\n",
        "separ_data"
      ],
      "id": "yJP946yH1WDz",
      "execution_count": null,
      "outputs": [
        {
          "output_type": "execute_result",
          "data": {
            "text/html": [
              "<div>\n",
              "<style scoped>\n",
              "    .dataframe tbody tr th:only-of-type {\n",
              "        vertical-align: middle;\n",
              "    }\n",
              "\n",
              "    .dataframe tbody tr th {\n",
              "        vertical-align: top;\n",
              "    }\n",
              "\n",
              "    .dataframe thead th {\n",
              "        text-align: right;\n",
              "    }\n",
              "</style>\n",
              "<table border=\"1\" class=\"dataframe\">\n",
              "  <thead>\n",
              "    <tr style=\"text-align: right;\">\n",
              "      <th></th>\n",
              "      <th>order_id</th>\n",
              "      <th>quantity</th>\n",
              "      <th>item_name</th>\n",
              "      <th>choice_description</th>\n",
              "      <th>item_price</th>\n",
              "    </tr>\n",
              "  </thead>\n",
              "  <tbody>\n",
              "    <tr>\n",
              "      <th>0</th>\n",
              "      <td>1</td>\n",
              "      <td>1</td>\n",
              "      <td>Fresh Tomato Salsa</td>\n",
              "      <td>NaN</td>\n",
              "      <td>0.0</td>\n",
              "    </tr>\n",
              "    <tr>\n",
              "      <th>3</th>\n",
              "      <td>1</td>\n",
              "      <td>1</td>\n",
              "      <td>Tomatillo-Green Chili Salsa</td>\n",
              "      <td>NaN</td>\n",
              "      <td>0.0</td>\n",
              "    </tr>\n",
              "    <tr>\n",
              "      <th>10</th>\n",
              "      <td>5</td>\n",
              "      <td>1</td>\n",
              "      <td>Guacamole</td>\n",
              "      <td>NaN</td>\n",
              "      <td>0.0</td>\n",
              "    </tr>\n",
              "    <tr>\n",
              "      <th>14</th>\n",
              "      <td>7</td>\n",
              "      <td>1</td>\n",
              "      <td>Guacamole</td>\n",
              "      <td>NaN</td>\n",
              "      <td>0.0</td>\n",
              "    </tr>\n",
              "    <tr>\n",
              "      <th>15</th>\n",
              "      <td>8</td>\n",
              "      <td>1</td>\n",
              "      <td>Tomatillo-Green Chili Salsa</td>\n",
              "      <td>NaN</td>\n",
              "      <td>0.0</td>\n",
              "    </tr>\n",
              "    <tr>\n",
              "      <th>...</th>\n",
              "      <td>...</td>\n",
              "      <td>...</td>\n",
              "      <td>...</td>\n",
              "      <td>...</td>\n",
              "      <td>...</td>\n",
              "    </tr>\n",
              "    <tr>\n",
              "      <th>4466</th>\n",
              "      <td>1779</td>\n",
              "      <td>1</td>\n",
              "      <td>Tomatillo Red Chili Salsa</td>\n",
              "      <td>NaN</td>\n",
              "      <td>0.0</td>\n",
              "    </tr>\n",
              "    <tr>\n",
              "      <th>4476</th>\n",
              "      <td>1784</td>\n",
              "      <td>1</td>\n",
              "      <td>Tomatillo Green Chili Salsa</td>\n",
              "      <td>NaN</td>\n",
              "      <td>0.0</td>\n",
              "    </tr>\n",
              "    <tr>\n",
              "      <th>4489</th>\n",
              "      <td>1786</td>\n",
              "      <td>4</td>\n",
              "      <td>Guacamole</td>\n",
              "      <td>NaN</td>\n",
              "      <td>0.0</td>\n",
              "    </tr>\n",
              "    <tr>\n",
              "      <th>4493</th>\n",
              "      <td>1787</td>\n",
              "      <td>1</td>\n",
              "      <td>Tomatillo Green Chili Salsa</td>\n",
              "      <td>NaN</td>\n",
              "      <td>0.0</td>\n",
              "    </tr>\n",
              "    <tr>\n",
              "      <th>4503</th>\n",
              "      <td>1790</td>\n",
              "      <td>1</td>\n",
              "      <td>Fresh Tomato Salsa</td>\n",
              "      <td>NaN</td>\n",
              "      <td>0.0</td>\n",
              "    </tr>\n",
              "  </tbody>\n",
              "</table>\n",
              "<p>755 rows × 5 columns</p>\n",
              "</div>"
            ],
            "text/plain": [
              "      order_id  quantity  ... choice_description  item_price\n",
              "0            1         1  ...                NaN         0.0\n",
              "3            1         1  ...                NaN         0.0\n",
              "10           5         1  ...                NaN         0.0\n",
              "14           7         1  ...                NaN         0.0\n",
              "15           8         1  ...                NaN         0.0\n",
              "...        ...       ...  ...                ...         ...\n",
              "4466      1779         1  ...                NaN         0.0\n",
              "4476      1784         1  ...                NaN         0.0\n",
              "4489      1786         4  ...                NaN         0.0\n",
              "4493      1787         1  ...                NaN         0.0\n",
              "4503      1790         1  ...                NaN         0.0\n",
              "\n",
              "[755 rows x 5 columns]"
            ]
          },
          "metadata": {},
          "execution_count": 46
        }
      ]
    },
    {
      "cell_type": "code",
      "metadata": {
        "colab": {
          "base_uri": "https://localhost:8080/"
        },
        "id": "BddASwAngo0n",
        "outputId": "3f11796e-ecee-4ca2-f833-c6417927c06c"
      },
      "source": [
        "data.loc[data['item_name'].str.contains(' and ')]['item_price'].unique()"
      ],
      "id": "BddASwAngo0n",
      "execution_count": null,
      "outputs": [
        {
          "output_type": "execute_result",
          "data": {
            "text/plain": [
              "array([ 2.39,  4.45,  2.95,  3.99,  5.9 ,  3.  ,  4.  ,  2.29,  8.9 ,\n",
              "        3.89, 11.8 ,  4.78, 13.35,  7.17,  7.98, 44.25,  8.5 , 17.8 ])"
            ]
          },
          "metadata": {},
          "execution_count": 46
        }
      ]
    },
    {
      "cell_type": "code",
      "metadata": {
        "id": "s4cQPcri1Ol3"
      },
      "source": [
        "data.head(20)"
      ],
      "id": "s4cQPcri1Ol3",
      "execution_count": null,
      "outputs": []
    },
    {
      "cell_type": "code",
      "metadata": {
        "colab": {
          "base_uri": "https://localhost:8080/"
        },
        "id": "_PUJvqVuy_sO",
        "outputId": "11e0fa75-6d75-4b8d-8196-970ee1eb294e"
      },
      "source": [
        "#number of orders\n",
        "len(data['order_id'].value_counts().values)"
      ],
      "id": "_PUJvqVuy_sO",
      "execution_count": null,
      "outputs": [
        {
          "output_type": "execute_result",
          "data": {
            "text/plain": [
              "1834"
            ]
          },
          "metadata": {},
          "execution_count": 8
        }
      ]
    },
    {
      "cell_type": "code",
      "metadata": {
        "colab": {
          "base_uri": "https://localhost:8080/",
          "height": 35
        },
        "id": "OSq0T_3N71Uc",
        "outputId": "7ea2f645-f300-4800-af7a-da055094ac53"
      },
      "source": [
        "#the most popular item\n",
        "data['item_name'].value_counts(normalize = True).index.tolist()[0]"
      ],
      "id": "OSq0T_3N71Uc",
      "execution_count": null,
      "outputs": [
        {
          "output_type": "execute_result",
          "data": {
            "application/vnd.google.colaboratory.intrinsic+json": {
              "type": "string"
            },
            "text/plain": [
              "'Chicken Bowl'"
            ]
          },
          "metadata": {},
          "execution_count": 9
        }
      ]
    },
    {
      "cell_type": "code",
      "metadata": {
        "colab": {
          "base_uri": "https://localhost:8080/"
        },
        "id": "S-834BKFfKpw",
        "outputId": "f9f6fd10-21de-43c1-c3a1-2478051ae0ef"
      },
      "source": [
        "#different price for the same product))0))))\n",
        "data.loc[data['item_name'] == 'Chips']['item_price'].unique()"
      ],
      "id": "S-834BKFfKpw",
      "execution_count": null,
      "outputs": [
        {
          "output_type": "execute_result",
          "data": {
            "text/plain": [
              "array([2.15, 4.3 , 6.45, 1.99])"
            ]
          },
          "metadata": {},
          "execution_count": 45
        }
      ]
    },
    {
      "cell_type": "code",
      "metadata": {
        "id": "jlfJc4-wqklw"
      },
      "source": [
        "#fix of data\n",
        "data.loc[data['item_price'] == 1.99] = data.loc[data['item_price'] == 1.99].replace({1.99:2.15},inplace=True)\n"
      ],
      "id": "jlfJc4-wqklw",
      "execution_count": null,
      "outputs": []
    },
    {
      "cell_type": "code",
      "metadata": {
        "colab": {
          "base_uri": "https://localhost:8080/"
        },
        "id": "hPhznAPgrsoH",
        "outputId": "6a61546f-bedb-413f-e92b-5848da8c9985"
      },
      "source": [
        ""
      ],
      "id": "hPhznAPgrsoH",
      "execution_count": null,
      "outputs": [
        {
          "output_type": "execute_result",
          "data": {
            "text/plain": [
              "array([2.15, 4.3 , 6.45])"
            ]
          },
          "metadata": {},
          "execution_count": 68
        }
      ]
    },
    {
      "cell_type": "code",
      "metadata": {
        "id": "F1T_kwjqiLs3"
      },
      "source": [
        "price = pd.to_numeric(data['item_price'])\n",
        "quantity = pd.to_numeric(data['quantity'])\n",
        "data['order_value'] = price*quantity\n",
        "#data.head()"
      ],
      "id": "F1T_kwjqiLs3",
      "execution_count": null,
      "outputs": []
    },
    {
      "cell_type": "code",
      "metadata": {
        "id": "MT7XcjOViZLX"
      },
      "source": [
        "#full value of order\n",
        "data.groupby('order_id').sum()"
      ],
      "id": "MT7XcjOViZLX",
      "execution_count": null,
      "outputs": []
    },
    {
      "cell_type": "code",
      "metadata": {
        "id": "u4NUanH4QQmJ"
      },
      "source": [
        "data['item_name'].unique()\n"
      ],
      "id": "u4NUanH4QQmJ",
      "execution_count": null,
      "outputs": []
    },
    {
      "cell_type": "code",
      "metadata": {
        "colab": {
          "base_uri": "https://localhost:8080/"
        },
        "id": "gZoLjBFjBQlM",
        "outputId": "508923d6-a439-4279-fe4f-6ef2825d0f38"
      },
      "source": [
        "# get mean\n",
        "data.groupby('order_id')['item_price'].sum().mean()\n",
        "#data['item_price'].sum() / data['order_id'].max()"
      ],
      "id": "gZoLjBFjBQlM",
      "execution_count": null,
      "outputs": [
        {
          "output_type": "execute_result",
          "data": {
            "text/plain": [
              "18.81142857142869"
            ]
          },
          "metadata": {},
          "execution_count": 31
        }
      ]
    },
    {
      "cell_type": "code",
      "metadata": {
        "colab": {
          "base_uri": "https://localhost:8080/",
          "height": 450
        },
        "id": "O0krtrSATooX",
        "outputId": "8a855705-a111-4d90-aacb-8fecd85ce778"
      },
      "source": [
        "data.groupby('order_id')['item_price'].agg(['sum', 'mean'])"
      ],
      "id": "O0krtrSATooX",
      "execution_count": null,
      "outputs": [
        {
          "output_type": "execute_result",
          "data": {
            "text/html": [
              "<div>\n",
              "<style scoped>\n",
              "    .dataframe tbody tr th:only-of-type {\n",
              "        vertical-align: middle;\n",
              "    }\n",
              "\n",
              "    .dataframe tbody tr th {\n",
              "        vertical-align: top;\n",
              "    }\n",
              "\n",
              "    .dataframe thead th {\n",
              "        text-align: right;\n",
              "    }\n",
              "</style>\n",
              "<table border=\"1\" class=\"dataframe\">\n",
              "  <thead>\n",
              "    <tr style=\"text-align: right;\">\n",
              "      <th></th>\n",
              "      <th>sum</th>\n",
              "      <th>mean</th>\n",
              "    </tr>\n",
              "    <tr>\n",
              "      <th>order_id</th>\n",
              "      <th></th>\n",
              "      <th></th>\n",
              "    </tr>\n",
              "  </thead>\n",
              "  <tbody>\n",
              "    <tr>\n",
              "      <th>1</th>\n",
              "      <td>11.56</td>\n",
              "      <td>2.890000</td>\n",
              "    </tr>\n",
              "    <tr>\n",
              "      <th>2</th>\n",
              "      <td>16.98</td>\n",
              "      <td>16.980000</td>\n",
              "    </tr>\n",
              "    <tr>\n",
              "      <th>3</th>\n",
              "      <td>12.67</td>\n",
              "      <td>6.335000</td>\n",
              "    </tr>\n",
              "    <tr>\n",
              "      <th>4</th>\n",
              "      <td>21.00</td>\n",
              "      <td>10.500000</td>\n",
              "    </tr>\n",
              "    <tr>\n",
              "      <th>5</th>\n",
              "      <td>13.70</td>\n",
              "      <td>6.850000</td>\n",
              "    </tr>\n",
              "    <tr>\n",
              "      <th>...</th>\n",
              "      <td>...</td>\n",
              "      <td>...</td>\n",
              "    </tr>\n",
              "    <tr>\n",
              "      <th>1830</th>\n",
              "      <td>23.00</td>\n",
              "      <td>11.500000</td>\n",
              "    </tr>\n",
              "    <tr>\n",
              "      <th>1831</th>\n",
              "      <td>12.90</td>\n",
              "      <td>4.300000</td>\n",
              "    </tr>\n",
              "    <tr>\n",
              "      <th>1832</th>\n",
              "      <td>13.20</td>\n",
              "      <td>6.600000</td>\n",
              "    </tr>\n",
              "    <tr>\n",
              "      <th>1833</th>\n",
              "      <td>23.50</td>\n",
              "      <td>11.750000</td>\n",
              "    </tr>\n",
              "    <tr>\n",
              "      <th>1834</th>\n",
              "      <td>28.75</td>\n",
              "      <td>9.583333</td>\n",
              "    </tr>\n",
              "  </tbody>\n",
              "</table>\n",
              "<p>1834 rows × 2 columns</p>\n",
              "</div>"
            ],
            "text/plain": [
              "            sum       mean\n",
              "order_id                  \n",
              "1         11.56   2.890000\n",
              "2         16.98  16.980000\n",
              "3         12.67   6.335000\n",
              "4         21.00  10.500000\n",
              "5         13.70   6.850000\n",
              "...         ...        ...\n",
              "1830      23.00  11.500000\n",
              "1831      12.90   4.300000\n",
              "1832      13.20   6.600000\n",
              "1833      23.50  11.750000\n",
              "1834      28.75   9.583333\n",
              "\n",
              "[1834 rows x 2 columns]"
            ]
          },
          "metadata": {},
          "execution_count": 33
        }
      ]
    },
    {
      "cell_type": "code",
      "metadata": {
        "colab": {
          "base_uri": "https://localhost:8080/",
          "height": 481
        },
        "id": "7xnzLJ-K_1sJ",
        "outputId": "a344d0a9-0dd7-47f3-e5a6-3045bcae3c03"
      },
      "source": [
        "# mean, min, max, etc. about orders\n",
        "data.groupby('order_id').describe()"
      ],
      "id": "7xnzLJ-K_1sJ",
      "execution_count": null,
      "outputs": [
        {
          "output_type": "execute_result",
          "data": {
            "text/html": [
              "<div>\n",
              "<style scoped>\n",
              "    .dataframe tbody tr th:only-of-type {\n",
              "        vertical-align: middle;\n",
              "    }\n",
              "\n",
              "    .dataframe tbody tr th {\n",
              "        vertical-align: top;\n",
              "    }\n",
              "\n",
              "    .dataframe thead tr th {\n",
              "        text-align: left;\n",
              "    }\n",
              "\n",
              "    .dataframe thead tr:last-of-type th {\n",
              "        text-align: right;\n",
              "    }\n",
              "</style>\n",
              "<table border=\"1\" class=\"dataframe\">\n",
              "  <thead>\n",
              "    <tr>\n",
              "      <th></th>\n",
              "      <th colspan=\"8\" halign=\"left\">quantity</th>\n",
              "      <th colspan=\"8\" halign=\"left\">item_price</th>\n",
              "    </tr>\n",
              "    <tr>\n",
              "      <th></th>\n",
              "      <th>count</th>\n",
              "      <th>mean</th>\n",
              "      <th>std</th>\n",
              "      <th>min</th>\n",
              "      <th>25%</th>\n",
              "      <th>50%</th>\n",
              "      <th>75%</th>\n",
              "      <th>max</th>\n",
              "      <th>count</th>\n",
              "      <th>mean</th>\n",
              "      <th>std</th>\n",
              "      <th>min</th>\n",
              "      <th>25%</th>\n",
              "      <th>50%</th>\n",
              "      <th>75%</th>\n",
              "      <th>max</th>\n",
              "    </tr>\n",
              "    <tr>\n",
              "      <th>order_id</th>\n",
              "      <th></th>\n",
              "      <th></th>\n",
              "      <th></th>\n",
              "      <th></th>\n",
              "      <th></th>\n",
              "      <th></th>\n",
              "      <th></th>\n",
              "      <th></th>\n",
              "      <th></th>\n",
              "      <th></th>\n",
              "      <th></th>\n",
              "      <th></th>\n",
              "      <th></th>\n",
              "      <th></th>\n",
              "      <th></th>\n",
              "      <th></th>\n",
              "    </tr>\n",
              "  </thead>\n",
              "  <tbody>\n",
              "    <tr>\n",
              "      <th>1</th>\n",
              "      <td>4.0</td>\n",
              "      <td>1.0</td>\n",
              "      <td>0.0</td>\n",
              "      <td>1.0</td>\n",
              "      <td>1.0</td>\n",
              "      <td>1.0</td>\n",
              "      <td>1.0</td>\n",
              "      <td>1.0</td>\n",
              "      <td>4.0</td>\n",
              "      <td>2.890000</td>\n",
              "      <td>0.577350</td>\n",
              "      <td>2.39</td>\n",
              "      <td>2.3900</td>\n",
              "      <td>2.890</td>\n",
              "      <td>3.3900</td>\n",
              "      <td>3.39</td>\n",
              "    </tr>\n",
              "    <tr>\n",
              "      <th>2</th>\n",
              "      <td>1.0</td>\n",
              "      <td>2.0</td>\n",
              "      <td>NaN</td>\n",
              "      <td>2.0</td>\n",
              "      <td>2.0</td>\n",
              "      <td>2.0</td>\n",
              "      <td>2.0</td>\n",
              "      <td>2.0</td>\n",
              "      <td>1.0</td>\n",
              "      <td>16.980000</td>\n",
              "      <td>NaN</td>\n",
              "      <td>16.98</td>\n",
              "      <td>16.9800</td>\n",
              "      <td>16.980</td>\n",
              "      <td>16.9800</td>\n",
              "      <td>16.98</td>\n",
              "    </tr>\n",
              "    <tr>\n",
              "      <th>3</th>\n",
              "      <td>2.0</td>\n",
              "      <td>1.0</td>\n",
              "      <td>0.0</td>\n",
              "      <td>1.0</td>\n",
              "      <td>1.0</td>\n",
              "      <td>1.0</td>\n",
              "      <td>1.0</td>\n",
              "      <td>1.0</td>\n",
              "      <td>2.0</td>\n",
              "      <td>6.335000</td>\n",
              "      <td>6.569022</td>\n",
              "      <td>1.69</td>\n",
              "      <td>4.0125</td>\n",
              "      <td>6.335</td>\n",
              "      <td>8.6575</td>\n",
              "      <td>10.98</td>\n",
              "    </tr>\n",
              "    <tr>\n",
              "      <th>4</th>\n",
              "      <td>2.0</td>\n",
              "      <td>1.0</td>\n",
              "      <td>0.0</td>\n",
              "      <td>1.0</td>\n",
              "      <td>1.0</td>\n",
              "      <td>1.0</td>\n",
              "      <td>1.0</td>\n",
              "      <td>1.0</td>\n",
              "      <td>2.0</td>\n",
              "      <td>10.500000</td>\n",
              "      <td>1.767767</td>\n",
              "      <td>9.25</td>\n",
              "      <td>9.8750</td>\n",
              "      <td>10.500</td>\n",
              "      <td>11.1250</td>\n",
              "      <td>11.75</td>\n",
              "    </tr>\n",
              "    <tr>\n",
              "      <th>5</th>\n",
              "      <td>2.0</td>\n",
              "      <td>1.0</td>\n",
              "      <td>0.0</td>\n",
              "      <td>1.0</td>\n",
              "      <td>1.0</td>\n",
              "      <td>1.0</td>\n",
              "      <td>1.0</td>\n",
              "      <td>1.0</td>\n",
              "      <td>2.0</td>\n",
              "      <td>6.850000</td>\n",
              "      <td>3.394113</td>\n",
              "      <td>4.45</td>\n",
              "      <td>5.6500</td>\n",
              "      <td>6.850</td>\n",
              "      <td>8.0500</td>\n",
              "      <td>9.25</td>\n",
              "    </tr>\n",
              "    <tr>\n",
              "      <th>...</th>\n",
              "      <td>...</td>\n",
              "      <td>...</td>\n",
              "      <td>...</td>\n",
              "      <td>...</td>\n",
              "      <td>...</td>\n",
              "      <td>...</td>\n",
              "      <td>...</td>\n",
              "      <td>...</td>\n",
              "      <td>...</td>\n",
              "      <td>...</td>\n",
              "      <td>...</td>\n",
              "      <td>...</td>\n",
              "      <td>...</td>\n",
              "      <td>...</td>\n",
              "      <td>...</td>\n",
              "      <td>...</td>\n",
              "    </tr>\n",
              "    <tr>\n",
              "      <th>1830</th>\n",
              "      <td>2.0</td>\n",
              "      <td>1.0</td>\n",
              "      <td>0.0</td>\n",
              "      <td>1.0</td>\n",
              "      <td>1.0</td>\n",
              "      <td>1.0</td>\n",
              "      <td>1.0</td>\n",
              "      <td>1.0</td>\n",
              "      <td>2.0</td>\n",
              "      <td>11.500000</td>\n",
              "      <td>0.353553</td>\n",
              "      <td>11.25</td>\n",
              "      <td>11.3750</td>\n",
              "      <td>11.500</td>\n",
              "      <td>11.6250</td>\n",
              "      <td>11.75</td>\n",
              "    </tr>\n",
              "    <tr>\n",
              "      <th>1831</th>\n",
              "      <td>3.0</td>\n",
              "      <td>1.0</td>\n",
              "      <td>0.0</td>\n",
              "      <td>1.0</td>\n",
              "      <td>1.0</td>\n",
              "      <td>1.0</td>\n",
              "      <td>1.0</td>\n",
              "      <td>1.0</td>\n",
              "      <td>3.0</td>\n",
              "      <td>4.300000</td>\n",
              "      <td>4.299128</td>\n",
              "      <td>1.50</td>\n",
              "      <td>1.8250</td>\n",
              "      <td>2.150</td>\n",
              "      <td>5.7000</td>\n",
              "      <td>9.25</td>\n",
              "    </tr>\n",
              "    <tr>\n",
              "      <th>1832</th>\n",
              "      <td>2.0</td>\n",
              "      <td>1.0</td>\n",
              "      <td>0.0</td>\n",
              "      <td>1.0</td>\n",
              "      <td>1.0</td>\n",
              "      <td>1.0</td>\n",
              "      <td>1.0</td>\n",
              "      <td>1.0</td>\n",
              "      <td>2.0</td>\n",
              "      <td>6.600000</td>\n",
              "      <td>3.040559</td>\n",
              "      <td>4.45</td>\n",
              "      <td>5.5250</td>\n",
              "      <td>6.600</td>\n",
              "      <td>7.6750</td>\n",
              "      <td>8.75</td>\n",
              "    </tr>\n",
              "    <tr>\n",
              "      <th>1833</th>\n",
              "      <td>2.0</td>\n",
              "      <td>1.0</td>\n",
              "      <td>0.0</td>\n",
              "      <td>1.0</td>\n",
              "      <td>1.0</td>\n",
              "      <td>1.0</td>\n",
              "      <td>1.0</td>\n",
              "      <td>1.0</td>\n",
              "      <td>2.0</td>\n",
              "      <td>11.750000</td>\n",
              "      <td>0.000000</td>\n",
              "      <td>11.75</td>\n",
              "      <td>11.7500</td>\n",
              "      <td>11.750</td>\n",
              "      <td>11.7500</td>\n",
              "      <td>11.75</td>\n",
              "    </tr>\n",
              "    <tr>\n",
              "      <th>1834</th>\n",
              "      <td>3.0</td>\n",
              "      <td>1.0</td>\n",
              "      <td>0.0</td>\n",
              "      <td>1.0</td>\n",
              "      <td>1.0</td>\n",
              "      <td>1.0</td>\n",
              "      <td>1.0</td>\n",
              "      <td>1.0</td>\n",
              "      <td>3.0</td>\n",
              "      <td>9.583333</td>\n",
              "      <td>1.443376</td>\n",
              "      <td>8.75</td>\n",
              "      <td>8.7500</td>\n",
              "      <td>8.750</td>\n",
              "      <td>10.0000</td>\n",
              "      <td>11.25</td>\n",
              "    </tr>\n",
              "  </tbody>\n",
              "</table>\n",
              "<p>1834 rows × 16 columns</p>\n",
              "</div>"
            ],
            "text/plain": [
              "         quantity                      ... item_price                                 \n",
              "            count mean  std  min  25%  ...        min      25%     50%      75%    max\n",
              "order_id                               ...                                            \n",
              "1             4.0  1.0  0.0  1.0  1.0  ...       2.39   2.3900   2.890   3.3900   3.39\n",
              "2             1.0  2.0  NaN  2.0  2.0  ...      16.98  16.9800  16.980  16.9800  16.98\n",
              "3             2.0  1.0  0.0  1.0  1.0  ...       1.69   4.0125   6.335   8.6575  10.98\n",
              "4             2.0  1.0  0.0  1.0  1.0  ...       9.25   9.8750  10.500  11.1250  11.75\n",
              "5             2.0  1.0  0.0  1.0  1.0  ...       4.45   5.6500   6.850   8.0500   9.25\n",
              "...           ...  ...  ...  ...  ...  ...        ...      ...     ...      ...    ...\n",
              "1830          2.0  1.0  0.0  1.0  1.0  ...      11.25  11.3750  11.500  11.6250  11.75\n",
              "1831          3.0  1.0  0.0  1.0  1.0  ...       1.50   1.8250   2.150   5.7000   9.25\n",
              "1832          2.0  1.0  0.0  1.0  1.0  ...       4.45   5.5250   6.600   7.6750   8.75\n",
              "1833          2.0  1.0  0.0  1.0  1.0  ...      11.75  11.7500  11.750  11.7500  11.75\n",
              "1834          3.0  1.0  0.0  1.0  1.0  ...       8.75   8.7500   8.750  10.0000  11.25\n",
              "\n",
              "[1834 rows x 16 columns]"
            ]
          },
          "metadata": {},
          "execution_count": 15
        }
      ]
    },
    {
      "cell_type": "code",
      "metadata": {
        "colab": {
          "base_uri": "https://localhost:8080/",
          "height": 297
        },
        "id": "gVszZKBYEFsx",
        "outputId": "7821ffd5-e97d-4595-b4cf-ab3bef6b7be5"
      },
      "source": [
        "#statistics for steaks\n",
        "steaks = data.loc[data['item_name'].str.contains('Steak')]\n",
        "steaks.groupby('item_name')['quantity','item_price'].describe()"
      ],
      "id": "gVszZKBYEFsx",
      "execution_count": null,
      "outputs": [
        {
          "output_type": "execute_result",
          "data": {
            "text/html": [
              "<div>\n",
              "<style scoped>\n",
              "    .dataframe tbody tr th:only-of-type {\n",
              "        vertical-align: middle;\n",
              "    }\n",
              "\n",
              "    .dataframe tbody tr th {\n",
              "        vertical-align: top;\n",
              "    }\n",
              "\n",
              "    .dataframe thead tr th {\n",
              "        text-align: left;\n",
              "    }\n",
              "\n",
              "    .dataframe thead tr:last-of-type th {\n",
              "        text-align: right;\n",
              "    }\n",
              "</style>\n",
              "<table border=\"1\" class=\"dataframe\">\n",
              "  <thead>\n",
              "    <tr>\n",
              "      <th></th>\n",
              "      <th colspan=\"8\" halign=\"left\">quantity</th>\n",
              "      <th colspan=\"8\" halign=\"left\">item_price</th>\n",
              "    </tr>\n",
              "    <tr>\n",
              "      <th></th>\n",
              "      <th>count</th>\n",
              "      <th>mean</th>\n",
              "      <th>std</th>\n",
              "      <th>min</th>\n",
              "      <th>25%</th>\n",
              "      <th>50%</th>\n",
              "      <th>75%</th>\n",
              "      <th>max</th>\n",
              "      <th>count</th>\n",
              "      <th>mean</th>\n",
              "      <th>std</th>\n",
              "      <th>min</th>\n",
              "      <th>25%</th>\n",
              "      <th>50%</th>\n",
              "      <th>75%</th>\n",
              "      <th>max</th>\n",
              "    </tr>\n",
              "    <tr>\n",
              "      <th>item_name</th>\n",
              "      <th></th>\n",
              "      <th></th>\n",
              "      <th></th>\n",
              "      <th></th>\n",
              "      <th></th>\n",
              "      <th></th>\n",
              "      <th></th>\n",
              "      <th></th>\n",
              "      <th></th>\n",
              "      <th></th>\n",
              "      <th></th>\n",
              "      <th></th>\n",
              "      <th></th>\n",
              "      <th></th>\n",
              "      <th></th>\n",
              "      <th></th>\n",
              "    </tr>\n",
              "  </thead>\n",
              "  <tbody>\n",
              "    <tr>\n",
              "      <th>Steak Bowl</th>\n",
              "      <td>211.0</td>\n",
              "      <td>1.047393</td>\n",
              "      <td>0.234278</td>\n",
              "      <td>1.0</td>\n",
              "      <td>1.0</td>\n",
              "      <td>1.0</td>\n",
              "      <td>1.0</td>\n",
              "      <td>3.0</td>\n",
              "      <td>211.0</td>\n",
              "      <td>10.711801</td>\n",
              "      <td>2.672417</td>\n",
              "      <td>8.69</td>\n",
              "      <td>9.250</td>\n",
              "      <td>9.25</td>\n",
              "      <td>11.75</td>\n",
              "      <td>26.07</td>\n",
              "    </tr>\n",
              "    <tr>\n",
              "      <th>Steak Burrito</th>\n",
              "      <td>368.0</td>\n",
              "      <td>1.048913</td>\n",
              "      <td>0.239889</td>\n",
              "      <td>1.0</td>\n",
              "      <td>1.0</td>\n",
              "      <td>1.0</td>\n",
              "      <td>1.0</td>\n",
              "      <td>3.0</td>\n",
              "      <td>368.0</td>\n",
              "      <td>10.465842</td>\n",
              "      <td>2.571981</td>\n",
              "      <td>8.69</td>\n",
              "      <td>8.990</td>\n",
              "      <td>9.25</td>\n",
              "      <td>11.75</td>\n",
              "      <td>27.75</td>\n",
              "    </tr>\n",
              "    <tr>\n",
              "      <th>Steak Crispy Tacos</th>\n",
              "      <td>35.0</td>\n",
              "      <td>1.028571</td>\n",
              "      <td>0.169031</td>\n",
              "      <td>1.0</td>\n",
              "      <td>1.0</td>\n",
              "      <td>1.0</td>\n",
              "      <td>1.0</td>\n",
              "      <td>2.0</td>\n",
              "      <td>35.0</td>\n",
              "      <td>10.209714</td>\n",
              "      <td>1.827732</td>\n",
              "      <td>8.69</td>\n",
              "      <td>9.120</td>\n",
              "      <td>9.25</td>\n",
              "      <td>11.75</td>\n",
              "      <td>17.98</td>\n",
              "    </tr>\n",
              "    <tr>\n",
              "      <th>Steak Salad</th>\n",
              "      <td>4.0</td>\n",
              "      <td>1.000000</td>\n",
              "      <td>0.000000</td>\n",
              "      <td>1.0</td>\n",
              "      <td>1.0</td>\n",
              "      <td>1.0</td>\n",
              "      <td>1.0</td>\n",
              "      <td>1.0</td>\n",
              "      <td>4.0</td>\n",
              "      <td>8.915000</td>\n",
              "      <td>0.150000</td>\n",
              "      <td>8.69</td>\n",
              "      <td>8.915</td>\n",
              "      <td>8.99</td>\n",
              "      <td>8.99</td>\n",
              "      <td>8.99</td>\n",
              "    </tr>\n",
              "    <tr>\n",
              "      <th>Steak Salad Bowl</th>\n",
              "      <td>29.0</td>\n",
              "      <td>1.068966</td>\n",
              "      <td>0.257881</td>\n",
              "      <td>1.0</td>\n",
              "      <td>1.0</td>\n",
              "      <td>1.0</td>\n",
              "      <td>1.0</td>\n",
              "      <td>2.0</td>\n",
              "      <td>29.0</td>\n",
              "      <td>11.847931</td>\n",
              "      <td>3.511170</td>\n",
              "      <td>9.39</td>\n",
              "      <td>9.390</td>\n",
              "      <td>11.89</td>\n",
              "      <td>11.89</td>\n",
              "      <td>23.78</td>\n",
              "    </tr>\n",
              "    <tr>\n",
              "      <th>Steak Soft Tacos</th>\n",
              "      <td>55.0</td>\n",
              "      <td>1.018182</td>\n",
              "      <td>0.134840</td>\n",
              "      <td>1.0</td>\n",
              "      <td>1.0</td>\n",
              "      <td>1.0</td>\n",
              "      <td>1.0</td>\n",
              "      <td>2.0</td>\n",
              "      <td>55.0</td>\n",
              "      <td>9.746364</td>\n",
              "      <td>1.523743</td>\n",
              "      <td>8.99</td>\n",
              "      <td>9.120</td>\n",
              "      <td>9.25</td>\n",
              "      <td>9.25</td>\n",
              "      <td>18.50</td>\n",
              "    </tr>\n",
              "  </tbody>\n",
              "</table>\n",
              "</div>"
            ],
            "text/plain": [
              "                   quantity                      ... item_price              \n",
              "                      count      mean       std  ...        50%    75%    max\n",
              "item_name                                        ...                         \n",
              "Steak Bowl            211.0  1.047393  0.234278  ...       9.25  11.75  26.07\n",
              "Steak Burrito         368.0  1.048913  0.239889  ...       9.25  11.75  27.75\n",
              "Steak Crispy Tacos     35.0  1.028571  0.169031  ...       9.25  11.75  17.98\n",
              "Steak Salad             4.0  1.000000  0.000000  ...       8.99   8.99   8.99\n",
              "Steak Salad Bowl       29.0  1.068966  0.257881  ...      11.89  11.89  23.78\n",
              "Steak Soft Tacos       55.0  1.018182  0.134840  ...       9.25   9.25  18.50\n",
              "\n",
              "[6 rows x 16 columns]"
            ]
          },
          "metadata": {},
          "execution_count": 38
        }
      ]
    },
    {
      "cell_type": "code",
      "metadata": {
        "colab": {
          "base_uri": "https://localhost:8080/",
          "height": 204
        },
        "id": "GJCl_z51M9m6",
        "outputId": "bd681f00-b8bd-4a4d-885c-0091a3209084"
      },
      "source": [
        "#add price in rub\n",
        "exchange = 71.55\n",
        "data['r_price'] = [x*71.55 for x in data['item_price']]\n",
        "data.head()"
      ],
      "id": "GJCl_z51M9m6",
      "execution_count": null,
      "outputs": [
        {
          "output_type": "execute_result",
          "data": {
            "text/html": [
              "<div>\n",
              "<style scoped>\n",
              "    .dataframe tbody tr th:only-of-type {\n",
              "        vertical-align: middle;\n",
              "    }\n",
              "\n",
              "    .dataframe tbody tr th {\n",
              "        vertical-align: top;\n",
              "    }\n",
              "\n",
              "    .dataframe thead th {\n",
              "        text-align: right;\n",
              "    }\n",
              "</style>\n",
              "<table border=\"1\" class=\"dataframe\">\n",
              "  <thead>\n",
              "    <tr style=\"text-align: right;\">\n",
              "      <th></th>\n",
              "      <th>order_id</th>\n",
              "      <th>quantity</th>\n",
              "      <th>item_name</th>\n",
              "      <th>choice_description</th>\n",
              "      <th>item_price</th>\n",
              "      <th>r_price</th>\n",
              "    </tr>\n",
              "  </thead>\n",
              "  <tbody>\n",
              "    <tr>\n",
              "      <th>0</th>\n",
              "      <td>1</td>\n",
              "      <td>1</td>\n",
              "      <td>Chips and Fresh Tomato Salsa</td>\n",
              "      <td>NaN</td>\n",
              "      <td>2.39</td>\n",
              "      <td>171.0045</td>\n",
              "    </tr>\n",
              "    <tr>\n",
              "      <th>1</th>\n",
              "      <td>1</td>\n",
              "      <td>1</td>\n",
              "      <td>Izze</td>\n",
              "      <td>[Clementine]</td>\n",
              "      <td>3.39</td>\n",
              "      <td>242.5545</td>\n",
              "    </tr>\n",
              "    <tr>\n",
              "      <th>2</th>\n",
              "      <td>1</td>\n",
              "      <td>1</td>\n",
              "      <td>Nantucket Nectar</td>\n",
              "      <td>[Apple]</td>\n",
              "      <td>3.39</td>\n",
              "      <td>242.5545</td>\n",
              "    </tr>\n",
              "    <tr>\n",
              "      <th>3</th>\n",
              "      <td>1</td>\n",
              "      <td>1</td>\n",
              "      <td>Chips and Tomatillo-Green Chili Salsa</td>\n",
              "      <td>NaN</td>\n",
              "      <td>2.39</td>\n",
              "      <td>171.0045</td>\n",
              "    </tr>\n",
              "    <tr>\n",
              "      <th>4</th>\n",
              "      <td>2</td>\n",
              "      <td>2</td>\n",
              "      <td>Chicken Bowl</td>\n",
              "      <td>[Tomatillo-Red Chili Salsa (Hot), [Black Beans...</td>\n",
              "      <td>16.98</td>\n",
              "      <td>1214.9190</td>\n",
              "    </tr>\n",
              "  </tbody>\n",
              "</table>\n",
              "</div>"
            ],
            "text/plain": [
              "   order_id  quantity  ... item_price    r_price\n",
              "0         1         1  ...       2.39   171.0045\n",
              "1         1         1  ...       3.39   242.5545\n",
              "2         1         1  ...       3.39   242.5545\n",
              "3         1         1  ...       2.39   171.0045\n",
              "4         2         2  ...      16.98  1214.9190\n",
              "\n",
              "[5 rows x 6 columns]"
            ]
          },
          "metadata": {},
          "execution_count": 16
        }
      ]
    },
    {
      "cell_type": "code",
      "metadata": {
        "id": "dccqaIfRSe0J"
      },
      "source": [
        "steaks_mild = steaks[steaks['choice_description'].str.contains('Mild')]\n",
        "steaks_medium = steaks[steaks['choice_description'].str.contains('Medium')]\n",
        "steaks_hot = steaks[steaks['choice_description'].str.contains('Hot')]"
      ],
      "id": "dccqaIfRSe0J",
      "execution_count": null,
      "outputs": []
    },
    {
      "cell_type": "code",
      "metadata": {
        "id": "a6hAlbc1GVPt",
        "colab": {
          "base_uri": "https://localhost:8080/",
          "height": 532
        },
        "outputId": "3a180d90-187f-4544-bb06-1e8760b337a9"
      },
      "source": [
        "steaks_mild.groupby('choice_description')['quantity','item_price'].describe()"
      ],
      "id": "a6hAlbc1GVPt",
      "execution_count": null,
      "outputs": [
        {
          "output_type": "execute_result",
          "data": {
            "text/html": [
              "<div>\n",
              "<style scoped>\n",
              "    .dataframe tbody tr th:only-of-type {\n",
              "        vertical-align: middle;\n",
              "    }\n",
              "\n",
              "    .dataframe tbody tr th {\n",
              "        vertical-align: top;\n",
              "    }\n",
              "\n",
              "    .dataframe thead tr th {\n",
              "        text-align: left;\n",
              "    }\n",
              "\n",
              "    .dataframe thead tr:last-of-type th {\n",
              "        text-align: right;\n",
              "    }\n",
              "</style>\n",
              "<table border=\"1\" class=\"dataframe\">\n",
              "  <thead>\n",
              "    <tr>\n",
              "      <th></th>\n",
              "      <th colspan=\"8\" halign=\"left\">quantity</th>\n",
              "      <th colspan=\"8\" halign=\"left\">item_price</th>\n",
              "    </tr>\n",
              "    <tr>\n",
              "      <th></th>\n",
              "      <th>count</th>\n",
              "      <th>mean</th>\n",
              "      <th>std</th>\n",
              "      <th>min</th>\n",
              "      <th>25%</th>\n",
              "      <th>50%</th>\n",
              "      <th>75%</th>\n",
              "      <th>max</th>\n",
              "      <th>count</th>\n",
              "      <th>mean</th>\n",
              "      <th>std</th>\n",
              "      <th>min</th>\n",
              "      <th>25%</th>\n",
              "      <th>50%</th>\n",
              "      <th>75%</th>\n",
              "      <th>max</th>\n",
              "    </tr>\n",
              "    <tr>\n",
              "      <th>choice_description</th>\n",
              "      <th></th>\n",
              "      <th></th>\n",
              "      <th></th>\n",
              "      <th></th>\n",
              "      <th></th>\n",
              "      <th></th>\n",
              "      <th></th>\n",
              "      <th></th>\n",
              "      <th></th>\n",
              "      <th></th>\n",
              "      <th></th>\n",
              "      <th></th>\n",
              "      <th></th>\n",
              "      <th></th>\n",
              "      <th></th>\n",
              "      <th></th>\n",
              "    </tr>\n",
              "  </thead>\n",
              "  <tbody>\n",
              "    <tr>\n",
              "      <th>[Fresh Tomato (Mild), [Black Beans, Guacamole, Rice, Sour Cream, Cheese]]</th>\n",
              "      <td>1.0</td>\n",
              "      <td>1.0</td>\n",
              "      <td>NaN</td>\n",
              "      <td>1.0</td>\n",
              "      <td>1.0</td>\n",
              "      <td>1.0</td>\n",
              "      <td>1.0</td>\n",
              "      <td>1.0</td>\n",
              "      <td>1.0</td>\n",
              "      <td>11.08</td>\n",
              "      <td>NaN</td>\n",
              "      <td>11.08</td>\n",
              "      <td>11.08</td>\n",
              "      <td>11.08</td>\n",
              "      <td>11.08</td>\n",
              "      <td>11.08</td>\n",
              "    </tr>\n",
              "    <tr>\n",
              "      <th>[Fresh Tomato (Mild), [Guacamole, Lettuce, Pinto Beans, Rice, Sour Cream, Cheese]]</th>\n",
              "      <td>2.0</td>\n",
              "      <td>1.0</td>\n",
              "      <td>0.0</td>\n",
              "      <td>1.0</td>\n",
              "      <td>1.0</td>\n",
              "      <td>1.0</td>\n",
              "      <td>1.0</td>\n",
              "      <td>1.0</td>\n",
              "      <td>2.0</td>\n",
              "      <td>11.08</td>\n",
              "      <td>0.0</td>\n",
              "      <td>11.08</td>\n",
              "      <td>11.08</td>\n",
              "      <td>11.08</td>\n",
              "      <td>11.08</td>\n",
              "      <td>11.08</td>\n",
              "    </tr>\n",
              "    <tr>\n",
              "      <th>[Fresh Tomato (Mild), [Lettuce, Black Beans, Rice, Cheese]]</th>\n",
              "      <td>1.0</td>\n",
              "      <td>1.0</td>\n",
              "      <td>NaN</td>\n",
              "      <td>1.0</td>\n",
              "      <td>1.0</td>\n",
              "      <td>1.0</td>\n",
              "      <td>1.0</td>\n",
              "      <td>1.0</td>\n",
              "      <td>1.0</td>\n",
              "      <td>8.69</td>\n",
              "      <td>NaN</td>\n",
              "      <td>8.69</td>\n",
              "      <td>8.69</td>\n",
              "      <td>8.69</td>\n",
              "      <td>8.69</td>\n",
              "      <td>8.69</td>\n",
              "    </tr>\n",
              "    <tr>\n",
              "      <th>[Fresh Tomato (Mild), [Lettuce, Black Beans, Rice]]</th>\n",
              "      <td>1.0</td>\n",
              "      <td>1.0</td>\n",
              "      <td>NaN</td>\n",
              "      <td>1.0</td>\n",
              "      <td>1.0</td>\n",
              "      <td>1.0</td>\n",
              "      <td>1.0</td>\n",
              "      <td>1.0</td>\n",
              "      <td>1.0</td>\n",
              "      <td>8.69</td>\n",
              "      <td>NaN</td>\n",
              "      <td>8.69</td>\n",
              "      <td>8.69</td>\n",
              "      <td>8.69</td>\n",
              "      <td>8.69</td>\n",
              "      <td>8.69</td>\n",
              "    </tr>\n",
              "    <tr>\n",
              "      <th>[Fresh Tomato (Mild), [Lettuce, Cheese]]</th>\n",
              "      <td>1.0</td>\n",
              "      <td>1.0</td>\n",
              "      <td>NaN</td>\n",
              "      <td>1.0</td>\n",
              "      <td>1.0</td>\n",
              "      <td>1.0</td>\n",
              "      <td>1.0</td>\n",
              "      <td>1.0</td>\n",
              "      <td>1.0</td>\n",
              "      <td>8.69</td>\n",
              "      <td>NaN</td>\n",
              "      <td>8.69</td>\n",
              "      <td>8.69</td>\n",
              "      <td>8.69</td>\n",
              "      <td>8.69</td>\n",
              "      <td>8.69</td>\n",
              "    </tr>\n",
              "    <tr>\n",
              "      <th>...</th>\n",
              "      <td>...</td>\n",
              "      <td>...</td>\n",
              "      <td>...</td>\n",
              "      <td>...</td>\n",
              "      <td>...</td>\n",
              "      <td>...</td>\n",
              "      <td>...</td>\n",
              "      <td>...</td>\n",
              "      <td>...</td>\n",
              "      <td>...</td>\n",
              "      <td>...</td>\n",
              "      <td>...</td>\n",
              "      <td>...</td>\n",
              "      <td>...</td>\n",
              "      <td>...</td>\n",
              "      <td>...</td>\n",
              "    </tr>\n",
              "    <tr>\n",
              "      <th>[[Roasted Chili Corn Salsa (Medium), Fresh Tomato Salsa (Mild)], [Rice, Pinto Beans, Cheese, Sour Cream, Guacamole, Lettuce]]</th>\n",
              "      <td>1.0</td>\n",
              "      <td>1.0</td>\n",
              "      <td>NaN</td>\n",
              "      <td>1.0</td>\n",
              "      <td>1.0</td>\n",
              "      <td>1.0</td>\n",
              "      <td>1.0</td>\n",
              "      <td>1.0</td>\n",
              "      <td>1.0</td>\n",
              "      <td>11.48</td>\n",
              "      <td>NaN</td>\n",
              "      <td>11.48</td>\n",
              "      <td>11.48</td>\n",
              "      <td>11.48</td>\n",
              "      <td>11.48</td>\n",
              "      <td>11.48</td>\n",
              "    </tr>\n",
              "    <tr>\n",
              "      <th>[[Roasted Chili Corn Salsa (Medium), Tomatillo-Red Chili Salsa (Hot), Fresh Tomato Salsa (Mild), Tomatillo-Green Chili Salsa (Medium)], [Rice, Black Beans, Fajita Veggies, Cheese, Sour Cream]]</th>\n",
              "      <td>2.0</td>\n",
              "      <td>1.0</td>\n",
              "      <td>0.0</td>\n",
              "      <td>1.0</td>\n",
              "      <td>1.0</td>\n",
              "      <td>1.0</td>\n",
              "      <td>1.0</td>\n",
              "      <td>1.0</td>\n",
              "      <td>2.0</td>\n",
              "      <td>8.99</td>\n",
              "      <td>0.0</td>\n",
              "      <td>8.99</td>\n",
              "      <td>8.99</td>\n",
              "      <td>8.99</td>\n",
              "      <td>8.99</td>\n",
              "      <td>8.99</td>\n",
              "    </tr>\n",
              "    <tr>\n",
              "      <th>[[Roasted Chili Corn Salsa (Medium), Tomatillo-Red Chili Salsa (Hot), Fresh Tomato Salsa (Mild)], [Rice, Black Beans, Pinto Beans, Cheese, Sour Cream, Lettuce]]</th>\n",
              "      <td>1.0</td>\n",
              "      <td>1.0</td>\n",
              "      <td>NaN</td>\n",
              "      <td>1.0</td>\n",
              "      <td>1.0</td>\n",
              "      <td>1.0</td>\n",
              "      <td>1.0</td>\n",
              "      <td>1.0</td>\n",
              "      <td>1.0</td>\n",
              "      <td>8.99</td>\n",
              "      <td>NaN</td>\n",
              "      <td>8.99</td>\n",
              "      <td>8.99</td>\n",
              "      <td>8.99</td>\n",
              "      <td>8.99</td>\n",
              "      <td>8.99</td>\n",
              "    </tr>\n",
              "    <tr>\n",
              "      <th>[[Roasted Chili Corn Salsa (Medium), Tomatillo-Red Chili Salsa (Hot), Fresh Tomato Salsa (Mild)], [Rice, Pinto Beans, Fajita Veggies, Cheese, Sour Cream, Lettuce]]</th>\n",
              "      <td>1.0</td>\n",
              "      <td>1.0</td>\n",
              "      <td>NaN</td>\n",
              "      <td>1.0</td>\n",
              "      <td>1.0</td>\n",
              "      <td>1.0</td>\n",
              "      <td>1.0</td>\n",
              "      <td>1.0</td>\n",
              "      <td>1.0</td>\n",
              "      <td>8.99</td>\n",
              "      <td>NaN</td>\n",
              "      <td>8.99</td>\n",
              "      <td>8.99</td>\n",
              "      <td>8.99</td>\n",
              "      <td>8.99</td>\n",
              "      <td>8.99</td>\n",
              "    </tr>\n",
              "    <tr>\n",
              "      <th>[[Tomatillo-Red Chili Salsa (Hot), Fresh Tomato Salsa (Mild)], [Rice, Black Beans, Lettuce]]</th>\n",
              "      <td>1.0</td>\n",
              "      <td>1.0</td>\n",
              "      <td>NaN</td>\n",
              "      <td>1.0</td>\n",
              "      <td>1.0</td>\n",
              "      <td>1.0</td>\n",
              "      <td>1.0</td>\n",
              "      <td>1.0</td>\n",
              "      <td>1.0</td>\n",
              "      <td>8.99</td>\n",
              "      <td>NaN</td>\n",
              "      <td>8.99</td>\n",
              "      <td>8.99</td>\n",
              "      <td>8.99</td>\n",
              "      <td>8.99</td>\n",
              "      <td>8.99</td>\n",
              "    </tr>\n",
              "  </tbody>\n",
              "</table>\n",
              "<p>72 rows × 16 columns</p>\n",
              "</div>"
            ],
            "text/plain": [
              "                                                   quantity       ... item_price       \n",
              "                                                      count mean  ...        75%    max\n",
              "choice_description                                                ...                  \n",
              "[Fresh Tomato (Mild), [Black Beans, Guacamole, ...      1.0  1.0  ...      11.08  11.08\n",
              "[Fresh Tomato (Mild), [Guacamole, Lettuce, Pint...      2.0  1.0  ...      11.08  11.08\n",
              "[Fresh Tomato (Mild), [Lettuce, Black Beans, Ri...      1.0  1.0  ...       8.69   8.69\n",
              "[Fresh Tomato (Mild), [Lettuce, Black Beans, Ri...      1.0  1.0  ...       8.69   8.69\n",
              "[Fresh Tomato (Mild), [Lettuce, Cheese]]                1.0  1.0  ...       8.69   8.69\n",
              "...                                                     ...  ...  ...        ...    ...\n",
              "[[Roasted Chili Corn Salsa (Medium), Fresh Toma...      1.0  1.0  ...      11.48  11.48\n",
              "[[Roasted Chili Corn Salsa (Medium), Tomatillo-...      2.0  1.0  ...       8.99   8.99\n",
              "[[Roasted Chili Corn Salsa (Medium), Tomatillo-...      1.0  1.0  ...       8.99   8.99\n",
              "[[Roasted Chili Corn Salsa (Medium), Tomatillo-...      1.0  1.0  ...       8.99   8.99\n",
              "[[Tomatillo-Red Chili Salsa (Hot), Fresh Tomato...      1.0  1.0  ...       8.99   8.99\n",
              "\n",
              "[72 rows x 16 columns]"
            ]
          },
          "metadata": {},
          "execution_count": 47
        }
      ]
    },
    {
      "cell_type": "code",
      "metadata": {
        "id": "8qNXKlQNIA8l"
      },
      "source": [
        "steaks_medium.groupby('choice_description')['quantity','item_price'].describe()"
      ],
      "id": "8qNXKlQNIA8l",
      "execution_count": null,
      "outputs": []
    },
    {
      "cell_type": "code",
      "metadata": {
        "id": "5GQGDSIJGVZV"
      },
      "source": [
        "steaks_hot.groupby('choice_description')['quantity','item_price'].describe()"
      ],
      "id": "5GQGDSIJGVZV",
      "execution_count": null,
      "outputs": []
    },
    {
      "cell_type": "code",
      "metadata": {
        "colab": {
          "base_uri": "https://localhost:8080/",
          "height": 798
        },
        "id": "33HRZ6Y-IZGd",
        "outputId": "a059c549-8b75-45ff-8eca-fb5da9a666b0"
      },
      "source": [
        "items = Counter(data.item_name)\n",
        "df = pd.DataFrame.from_dict(items, orient='index')\n",
        "df = df[0].sort_values(ascending=True)\n",
        "df.plot(kind='bar', figsize=(20,10))\n",
        "plt.xlabel('Items')\n",
        "plt.ylabel('Frequency')\n",
        "plt.title('Most ordered items')\n",
        "plt.show()"
      ],
      "id": "33HRZ6Y-IZGd",
      "execution_count": null,
      "outputs": [
        {
          "output_type": "display_data",
          "data": {
            "image/png": "[encoded data removed]",
            "text/plain": [
              "<Figure size 1440x720 with 1 Axes>"
            ]
          },
          "metadata": {
            "needs_background": "light"
          }
        }
      ]
    },
    {
      "cell_type": "code",
      "metadata": {
        "colab": {
          "base_uri": "https://localhost:8080/",
          "height": 798
        },
        "id": "sJcKULF6w1Xv",
        "outputId": "92dd4715-fa66-4821-ee62-7569ac6584d3"
      },
      "source": [
        "df = data[['item_name','item_price']]\n",
        "df = df.groupby('item_name').sum()\n",
        "#df = df[0].sort_values(ascending=True)\n",
        "df.plot(kind='bar', figsize=(20,10))\n",
        "plt.xlabel('Items')\n",
        "plt.ylabel('Earned')\n",
        "plt.title('Money earned per each item')\n",
        "plt.show()\n"
      ],
      "id": "sJcKULF6w1Xv",
      "execution_count": null,
      "outputs": [
        {
          "output_type": "display_data",
          "data": {
            "image/png": "[encoded data removed]",
            "text/plain": [
              "<Figure size 1440x720 with 1 Axes>"
            ]
          },
          "metadata": {
            "needs_background": "light"
          }
        }
      ]
    },
    {
      "cell_type": "code",
      "metadata": {
        "colab": {
          "base_uri": "https://localhost:8080/"
        },
        "id": "nU6opkoZzdZd",
        "outputId": "2e0d47b7-f06e-45ed-caf0-4a83fe609b3a"
      },
      "source": [
        "data['order_id'].groupby(data['item_name']).head()"
      ],
      "id": "nU6opkoZzdZd",
      "execution_count": null,
      "outputs": [
        {
          "output_type": "execute_result",
          "data": {
            "text/plain": [
              "0          1\n",
              "1          1\n",
              "2          1\n",
              "3          1\n",
              "4          2\n",
              "        ... \n",
              "3363    1349\n",
              "3471    1395\n",
              "3502    1406\n",
              "3749    1499\n",
              "3750    1500\n",
              "Name: order_id, Length: 228, dtype: int64"
            ]
          },
          "metadata": {},
          "execution_count": 43
        }
      ]
    },
    {
      "cell_type": "code",
      "metadata": {
        "colab": {
          "base_uri": "https://localhost:8080/",
          "height": 35
        },
        "id": "ZYv467BDee32",
        "outputId": "1f6ea123-e953-4631-ffc3-d751ff2972b0"
      },
      "source": [
        "string = 'Chips and Tomatillo Green Chili Salsa'\n",
        "string = string.lower()\n",
        "if 'and' in string:\n",
        " items = string.split(' and ')\n",
        "\n",
        "l[-1]"
      ],
      "id": "ZYv467BDee32",
      "execution_count": null,
      "outputs": [
        {
          "output_type": "execute_result",
          "data": {
            "application/vnd.google.colaboratory.intrinsic+json": {
              "type": "string"
            },
            "text/plain": [
              "'tomatiandllo green chili salsa'"
            ]
          },
          "metadata": {},
          "execution_count": 24
        }
      ]
    },
    {
      "cell_type": "markdown",
      "metadata": {
        "id": "cf725ec6"
      },
      "source": [
        "### Алгоритмы уменьшения размерности \n",
        "\n",
        "#### повторить эксперименты в главе 5.1 Qalitative Comparison of Multiple Algorithms статьи статьи UMAP: Uniform Manifold\n",
        "#### Approximation and Projection for Dimension Reduction (https://arxiv.org/pdf/1802.03426.pdf)\n",
        "\n",
        "#### необходимо воспроизвести все графики данной главы, соотнести выводы из статьи с вашими результатами."
      ],
      "id": "cf725ec6"
    },
    {
      "cell_type": "code",
      "metadata": {
        "id": "0e3ac869"
      },
      "source": [
        ""
      ],
      "id": "0e3ac869",
      "execution_count": null,
      "outputs": []
    }
  ]
}